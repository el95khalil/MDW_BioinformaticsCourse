{
 "cells": [
  {
   "cell_type": "markdown",
   "metadata": {},
   "source": [
    "                                EXAM 1:\n",
    "                               \n",
    "YOUNESS ELKHALIL                    \n",
    "\n",
    "Problem 2: \n",
    "\n",
    "We use 'ls' command to show and list informations about a file. The code bellow allows us to show the ownership of the file, the file size and also the permissions for the users.\n"
   ]
  },
  {
   "cell_type": "code",
   "execution_count": null,
   "metadata": {},
   "outputs": [],
   "source": [
    "ls -lah "
   ]
  },
  {
   "cell_type": "markdown",
   "metadata": {},
   "source": [
    "Problem 3:\n",
    "\n",
    "The command 'head -x' allows us to show (print) the first lines of a file. "
   ]
  },
  {
   "cell_type": "code",
   "execution_count": null,
   "metadata": {},
   "outputs": [],
   "source": [
    "head-1 Locus_Germplasm_Phenotype_20130122.txt"
   ]
  },
  {
   "cell_type": "markdown",
   "metadata": {},
   "source": [
    "Problem 4: \n",
    "\n",
    "The 'wc' command help us print the number of lines in a file and with -l gives us only the total number of lines."
   ]
  },
  {
   "cell_type": "code",
   "execution_count": null,
   "metadata": {},
   "outputs": [],
   "source": [
    "wc -l Locus_Germplasm_Phenotype_20130122.txt"
   ]
  },
  {
   "cell_type": "markdown",
   "metadata": {},
   "source": [
    "Problem 5:\n",
    "\n",
    "To have all the data lines without the header we can print strating from the bottom usins the 'tail' command and take out the first line. After it we use > to create and send the data to a new file."
   ]
  },
  {
   "cell_type": "code",
   "execution_count": null,
   "metadata": {},
   "outputs": [],
   "source": [
    "tail -7215 Locus_Germplasm_Phenotype_20130122.txt > Data_Only.csv"
   ]
  },
  {
   "cell_type": "markdown",
   "metadata": {},
   "source": [
    "Problem 6: \n",
    "\n",
    "The use of 'grep' command help us check if a file contains certain characters. The '-in' is to direct the checking, where 'i' stands for case-insensitive and 'n' for printing only the lines."
   ]
  },
  {
   "cell_type": "code",
   "execution_count": null,
   "metadata": {},
   "outputs": [],
   "source": [
    "grep -in 'root' Locus_Germplasm_Phenotype_20130122.txt"
   ]
  },
  {
   "cell_type": "markdown",
   "metadata": {},
   "source": [
    "Problem 7: \n",
    "\n",
    "We can solve this problem by using 'grep' command with the extended regular expressions. The use of '-o' will allow us to print only the matches and the 'pipes' will redirect the output on the left command to the input on the right command."
   ]
  },
  {
   "cell_type": "code",
   "execution_count": null,
   "metadata": {},
   "outputs": [],
   "source": [
    "grep -in 'root' Locus_Germplasm_Phenotype_20130122.txt" | "grep -E -ino \"AT[1-5]G[1-9]+\" > Root-associated-Loci.txt"
   ]
  },
  {
   "cell_type": "markdown",
   "metadata": {},
   "source": [
    "Problem 8: \n",
    "\n",
    "Same as the problem 8. "
   ]
  },
  {
   "cell_type": "code",
   "execution_count": null,
   "metadata": {},
   "outputs": [],
   "source": [
    "grep -in 'root' Locus_Germplasm_Phenotype_20130122.txt" |"grep -E -ino \"[0-9]*\" > Root-associated-Publications.txt"
   ]
  },
  {
   "cell_type": "markdown",
   "metadata": {},
   "source": [
    "Problem 9: \n",
    "\n",
    "The chromosomes are in the 3rd charachter so we should use a command that will allow us to show the first three characters starting from 'AT'."
   ]
  },
  {
   "cell_type": "code",
   "execution_count": null,
   "metadata": {},
   "outputs": [],
   "source": [
    "grep -in 'root' Locus_Germplasm_Phenotype_20130122.txt" |  "grep -E -ino \"AT[1-5]+$\" 
   ]
  },
  {
   "cell_type": "code",
   "execution_count": null,
   "metadata": {},
   "outputs": [],
   "source": []
  }
 ],
 "metadata": {
  "kernelspec": {
   "display_name": "Python 3",
   "language": "python",
   "name": "python3"
  },
  "language_info": {
   "codemirror_mode": {
    "name": "ipython",
    "version": 3
   },
   "file_extension": ".py",
   "mimetype": "text/x-python",
   "name": "python",
   "nbconvert_exporter": "python",
   "pygments_lexer": "ipython3",
   "version": "3.7.3"
  }
 },
 "nbformat": 4,
 "nbformat_minor": 2
}
